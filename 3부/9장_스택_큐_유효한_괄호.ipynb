{
 "cells": [
  {
   "cell_type": "markdown",
   "metadata": {},
   "source": [
    "# 스택, 큐"
   ]
  },
  {
   "cell_type": "markdown",
   "metadata": {},
   "source": [
    "## 유효한 괄호"
   ]
  },
  {
   "cell_type": "markdown",
   "metadata": {},
   "source": [
    "https://leetcode.com/problems/valid-parentheses/"
   ]
  },
  {
   "cell_type": "markdown",
   "metadata": {},
   "source": [
    "괄호로 된 입력값이 올바른지 판별하라\n",
    "\n",
    "입력 : \n",
    "\n",
    "()[]{}\n",
    "\n",
    "출력 : \n",
    "\n",
    "true"
   ]
  },
  {
   "cell_type": "code",
   "execution_count": 25,
   "metadata": {},
   "outputs": [],
   "source": [
    "class Solution:\n",
    "    def isValid(self, s: str) -> bool:\n",
    "        stack = []\n",
    "        for x in s:\n",
    "            if x == ')':\n",
    "                if not stack or stack.pop() != '(':\n",
    "                    return False\n",
    "            elif x == ']':\n",
    "                if not stack or stack.pop() != '[':\n",
    "                    return False\n",
    "            elif x == '}':\n",
    "                if not stack or stack.pop() != '{':\n",
    "                    return False\n",
    "            else:\n",
    "                stack.append(x)\n",
    "                \n",
    "        if len(stack) == 0:\n",
    "            return True\n",
    "        else:\n",
    "            return False"
   ]
  },
  {
   "cell_type": "code",
   "execution_count": 26,
   "metadata": {},
   "outputs": [
    {
     "data": {
      "text/plain": [
       "True"
      ]
     },
     "execution_count": 26,
     "metadata": {},
     "output_type": "execute_result"
    }
   ],
   "source": [
    "solution = Solution()\n",
    "solution.isValid('()[]{}')"
   ]
  },
  {
   "cell_type": "markdown",
   "metadata": {},
   "source": [
    "Accepted\t32 ms\t14.1 MB\tpython3"
   ]
  },
  {
   "cell_type": "markdown",
   "metadata": {},
   "source": [
    "## 풀이 1. 스택 일치 여부 판별"
   ]
  },
  {
   "cell_type": "code",
   "execution_count": 28,
   "metadata": {},
   "outputs": [],
   "source": [
    "class Solution:\n",
    "    def isValid(self, s: str) -> bool:\n",
    "        stack = []\n",
    "        table = {\n",
    "            ')': '(',\n",
    "            '}': '{',\n",
    "            ']': '['\n",
    "        }\n",
    "        \n",
    "        for char in s:\n",
    "            if char not in table:\n",
    "                stack.append(char)\n",
    "            elif not stack or table[char] != stack.pop():\n",
    "                return False\n",
    "        return len(stack) == 0"
   ]
  },
  {
   "cell_type": "markdown",
   "metadata": {},
   "source": [
    "Accepted\t28 ms\t14.4 MB\tpython3"
   ]
  }
 ],
 "metadata": {
  "kernelspec": {
   "display_name": "Python 3",
   "language": "python",
   "name": "python3"
  },
  "language_info": {
   "codemirror_mode": {
    "name": "ipython",
    "version": 3
   },
   "file_extension": ".py",
   "mimetype": "text/x-python",
   "name": "python",
   "nbconvert_exporter": "python",
   "pygments_lexer": "ipython3",
   "version": "3.8.2"
  }
 },
 "nbformat": 4,
 "nbformat_minor": 4
}
