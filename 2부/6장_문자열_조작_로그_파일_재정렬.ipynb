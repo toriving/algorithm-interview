{
 "cells": [
  {
   "cell_type": "markdown",
   "metadata": {},
   "source": [
    "# 문자열 조작"
   ]
  },
  {
   "cell_type": "markdown",
   "metadata": {},
   "source": [
    "## 로그 파일 재정렬"
   ]
  },
  {
   "cell_type": "markdown",
   "metadata": {},
   "source": [
    "로그를 재정렬 하라. 기준은 다음과 같다\n",
    "1. 로그의 가장 앞 부분은 식별자다.\n",
    "2. 문자로 구성된 로그가 숫자 로그보다 앞에 온다.\n",
    "3. 식별자는 순서에 영향을 끼치지 않지만, 문자가 동일한 경우 식별자 순으로 한다.\n",
    "4. 숫자 로그는 입력 순서대로 한다."
   ]
  },
  {
   "cell_type": "code",
   "execution_count": 1,
   "metadata": {},
   "outputs": [],
   "source": [
    "def reorderLogFiles(self, logs):\n",
    "    characters = []\n",
    "    digits = []\n",
    "    \n",
    "    for log in logs:\n",
    "        if log.split()[1].isdigit():\n",
    "            digits.append(log)\n",
    "        else:\n",
    "            characters.append(log)\n",
    "    \n",
    "    characters.sort(key=lambda x: (x.split()[1:], x.split()[0]))\n",
    "    return characters + digits"
   ]
  },
  {
   "cell_type": "markdown",
   "metadata": {},
   "source": [
    "\tAccepted\t60 ms\t14.4 MB\tpython3"
   ]
  },
  {
   "cell_type": "code",
   "execution_count": null,
   "metadata": {},
   "outputs": [],
   "source": []
  }
 ],
 "metadata": {
  "kernelspec": {
   "display_name": "Python 3",
   "language": "python",
   "name": "python3"
  },
  "language_info": {
   "codemirror_mode": {
    "name": "ipython",
    "version": 3
   },
   "file_extension": ".py",
   "mimetype": "text/x-python",
   "name": "python",
   "nbconvert_exporter": "python",
   "pygments_lexer": "ipython3",
   "version": "3.8.2"
  }
 },
 "nbformat": 4,
 "nbformat_minor": 4
}
